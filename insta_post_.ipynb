{
 "cells": [
  {
   "cell_type": "code",
   "execution_count": 1,
   "id": "413d0225",
   "metadata": {
    "ExecuteTime": {
     "end_time": "2022-05-26T11:44:37.557985Z",
     "start_time": "2022-05-26T11:44:09.189676Z"
    }
   },
   "outputs": [
    {
     "name": "stdout",
     "output_type": "stream",
     "text": [
      "Opened Instagram\n"
     ]
    },
    {
     "name": "stderr",
     "output_type": "stream",
     "text": [
      "C:\\Users\\Admin0809\\AppData\\Local\\Temp\\ipykernel_20020\\1433701317.py:14: DeprecationWarning: find_element_by_name is deprecated. Please use find_element(by=By.NAME, value=name) instead\n",
      "  username = driver.find_element_by_name('username')\n",
      "C:\\Users\\Admin0809\\AppData\\Local\\Temp\\ipykernel_20020\\1433701317.py:16: DeprecationWarning: find_element_by_name is deprecated. Please use find_element(by=By.NAME, value=name) instead\n",
      "  password = driver.find_element_by_name('password')\n",
      "C:\\Users\\Admin0809\\AppData\\Local\\Temp\\ipykernel_20020\\1433701317.py:20: DeprecationWarning: find_element_by_css_selector is deprecated. Please use find_element(by=By.CSS_SELECTOR, value=css_selector) instead\n",
      "  button_login = driver.find_element_by_css_selector('#loginForm > div > div:nth-child(3) > button')\n"
     ]
    },
    {
     "name": "stdout",
     "output_type": "stream",
     "text": [
      "[<div class=\"eLAPa kPFhm\"><div class=\"KL4Bh\" style=\"padding-bottom: 100%;\"><img class=\"FFVAD\" crossorigin=\"anonymous\" decoding=\"auto\" style=\"object-fit: cover;\"/></div><div class=\"_9AhH0\"></div></div>, <div class=\"eLAPa\"><div class=\"KL4Bh\"><img alt=\"Cada vez uma criação mais fofa que a outra!!😍♥️🥰\n",
      "\n",
      "Para mais conteúdos como esse não esqueça de nos  seguir! \n",
      "@gregoacademy\n",
      "Credits @amie.hrt\n",
      "\n",
      "#arrastapracima #gregoacademy \n",
      "#valorantmemes #valoroso #valorant #valorantsports #valorantgameplay #valorantdicas #valorantbrasil #valorantgame #valorantgames #valorantsports #valoranthighlights #valorantaula #riotgames #riotbrasil #riot @riotgames @valorantbrasil @valorantlatam @valoranttr @valorantbrasil #socute #omg #fofo #plantas\n",
      "#planta #viper #jett #raze #sova #kiljoy\" class=\"FFVAD\" crossorigin=\"anonymous\" src=\"https://instagram.famd4-1.fna.fbcdn.net/v/t51.2885-15/280744965_1270187930188255_257545770697978182_n.webp?stp=dst-jpg_e35&amp;_nc_ht=instagram.famd4-1.fna.fbcdn.net&amp;_nc_cat=107&amp;_nc_ohc=iWus4N2_4OwAX8p4OdV&amp;edm=APU89FABAAAA&amp;ccb=7-5&amp;oh=00_AT-Q-BUOmkFeT5p-NFsiw165RH1HD58NwMN2RV4JIoJcxA&amp;oe=62958ED0&amp;_nc_sid=86f79a\" style=\"visibility: hidden; object-fit: cover;\"/></div><div class=\"_9AhH0\"></div></div>, <div class=\"eLAPa\"><div class=\"KL4Bh\"><img alt=\"Essa artes me deixaram de queixo caidoooo!!!😍🔥🔥🔥🔥\n",
      "Para mais conteúdos como esse não esqueça de nos  seguir! @gregoacademy\n",
      "Credits \n",
      "@d_nunezart\n",
      "\n",
      "arrastapracima #gregoacademy \n",
      "#valorantmemes #valoroso #valorant #valorantsports #valorantgameplay #valorantdicas #valorantbrasil #valorantgame #valorantgames #valorantsports #valoranthighlights #valorantaula #riotgames #riotbrasil #riot @riotgames @valorantbrasil @valorantlatam @valoranttr @valorantbrasil #socute #omg #fofo #plantas\n",
      "#planta #fadevalorant #fade #novaagente #fade\" class=\"FFVAD\" crossorigin=\"anonymous\" decoding=\"auto\" style=\"visibility: hidden; object-fit: cover;\"/></div><div class=\"_9AhH0\"></div></div>, <div class=\"eLAPa\"><div class=\"KL4Bh\"><img alt=\"A sensacao de paz que essa fofura passa é sem igual! 🌃⭐🌠🌙\n",
      "Para mais conteúdos como esse não esqueça de nos  seguir!\n",
      "The feeling of peace that this cuteness passes is unparalleled! For more content like this don't forget to follow us!\n",
      "\n",
      " @gregoacademy\n",
      "\n",
      "Credits @yuzuju_\n",
      "#arrastapracima #gregoacademy \n",
      "#valorantmemes #valoroso #valorant #valorantsports #valorantgameplay #valorantdicas #valorantbrasil #valorantgame #valorantgames #valorantsports #valoranthighlights #valorantaula #riotgames #riotbrasil #riot @riotgames @valorantbrasil @valorantlatam @valoranttr @valorantbrasil #socute #omg #fofo\" class=\"FFVAD\" crossorigin=\"anonymous\" src=\"https://instagram.famd4-1.fna.fbcdn.net/v/t51.2885-15/278140122_426500095946455_8780752983510269184_n.webp?stp=dst-jpg_e35&amp;_nc_ht=instagram.famd4-1.fna.fbcdn.net&amp;_nc_cat=107&amp;_nc_ohc=rGKAksl-xhMAX8Of69s&amp;edm=APU89FABAAAA&amp;ccb=7-5&amp;oh=00_AT9hwRPtbkZoCaUPRDUNvYZLAgpYm-QX6XF8J8llziKCkg&amp;oe=62964CCD&amp;_nc_sid=86f79a\" style=\"visibility: hidden; object-fit: cover;\"/></div><div class=\"_9AhH0\"></div></div>, <div class=\"eLAPa\"><div class=\"KL4Bh\"><img alt=\"Todos nós  somos plantas!!!Kkkk 😍😍\n",
      "\n",
      "Para mais conteúdos como esse não esqueça de nos  seguir! @gregoacademy\n",
      "Credits @ssant0kkie\n",
      "\n",
      "#arrastapracima #gregoacademy \n",
      "#valorantmemes #valoroso #valorant #valorantsports #valorantgameplay #valorantdicas #valorantbrasil #valorantgame #valorantgames #valorantsports #valoranthighlights #valorantaula #riotgames #riotbrasil #riot @riotgames @valorantbrasil @valorantlatam @valoranttr @valorantbrasil #socute #omg #fofo #plantas\n",
      "#planta\" class=\"FFVAD\" crossorigin=\"anonymous\" src=\"https://instagram.famd4-1.fna.fbcdn.net/v/t51.2885-15/277407107_689902132461930_1441463968139548675_n.webp?stp=dst-jpg_e35&amp;_nc_ht=instagram.famd4-1.fna.fbcdn.net&amp;_nc_cat=106&amp;_nc_ohc=Deu3zFKQVWYAX8CjdER&amp;edm=APU89FABAAAA&amp;ccb=7-5&amp;oh=00_AT91LVHVpsnKLaa5SuWrARKa0R8gd3Ua05CZAmx5uviHSg&amp;oe=6295CFDC&amp;_nc_sid=86f79a\" style=\"visibility: hidden; object-fit: cover;\"/></div><div class=\"_9AhH0\"></div></div>, <div class=\"eLAPa\"><div class=\"KL4Bh\"><img alt=\"Quem mais ama uma praia? 🐬🏖🌊\n",
      "very beautiful!!!!! 😍\n",
      "\n",
      "Siga nos para mais posts como esse! E não esqueça de comentar e curtir! Aééé kkk\n",
      "@gregoacademy #arrastapracima\n",
      "\n",
      "#valorantmemes #valoroso #valorant #valorantsports #valorantgameplay #valorantdicas #valorantbrasil #valorantgame #valorantgames #valorantsports #valoranthighlights #valorantaula #riotgames #riotbrasil #riot @riotgames @valorantbrasil @valorantlatam @valoranttr @valorantbrasil #socute #omg #fofo #praia #linda \n",
      "#beautiful \n",
      "Credits @luzdanaee e outros...\" class=\"FFVAD\" crossorigin=\"anonymous\" src=\"https://instagram.famd4-1.fna.fbcdn.net/v/t51.2885-15/275909145_391675066022136_5836888562309893572_n.webp?stp=dst-jpg_e35&amp;_nc_ht=instagram.famd4-1.fna.fbcdn.net&amp;_nc_cat=100&amp;_nc_ohc=nDilMKBg2qQAX_IVyBj&amp;edm=APU89FABAAAA&amp;ccb=7-5&amp;oh=00_AT8Jw_XTO63LDWo4dcVGsG3PX7B1TWFJdU5i7m3VrHk4Ug&amp;oe=62963B42&amp;_nc_sid=86f79a\" style=\"visibility: hidden; object-fit: cover;\"/></div><div class=\"_9AhH0\"></div></div>, <div class=\"eLAPa\"><div class=\"KL4Bh\"><img alt=\"Me fala se elas não estão maravilhosas!!😍🍃\n",
      "\n",
      "Para mais conteúdos como esse não esqueça de nos  seguir! @gregoacademy\n",
      "Credits @usagichristyart\n",
      "\n",
      "#arrastapracima #gregoacademy \n",
      "#valorantmemes #valoroso #valorant #valorantsports #valorantgameplay #valorantdicas #valorantbrasil #valorantgame #valorantgames #valorantsports #valoranthighlights #valorantaula #riotgames #riotbrasil #riot @riotgames @valorantbrasil @valorantlatam @valoranttr @valorantbrasil #socute #omg #fofo\" class=\"FFVAD\" crossorigin=\"anonymous\" src=\"https://instagram.famd4-1.fna.fbcdn.net/v/t51.2885-15/275318122_490535389337084_3246882006966143961_n.webp?stp=dst-jpg_e35&amp;_nc_ht=instagram.famd4-1.fna.fbcdn.net&amp;_nc_cat=108&amp;_nc_ohc=2sNZgm4a_0MAX8FSkYd&amp;edm=APU89FABAAAA&amp;ccb=7-5&amp;oh=00_AT-SG0KACpxsSeUv1MsiTd1ReOYpi1QR2GQ4rwGa8sHzXw&amp;oe=6295E4F6&amp;_nc_sid=86f79a\" style=\"visibility: hidden; object-fit: cover;\"/></div><div class=\"_9AhH0\"></div></div>, <div class=\"eLAPa\"><div class=\"KL4Bh\"><img alt=\"Só gracinha atrás de gracinha, assim nosso coração não aguenta!! Kkkk quem mais se apaixona? 😂🔥😍🍃😝\n",
      "\n",
      "Para mais conteúdos como esse não esqueça de nos seguir! @gregoacademy\n",
      "Credits @kaylemeart\n",
      "#arrastapracima #gregoacademy \n",
      "#valorantmemes #valoroso #valorant #valorantsports #valorantgameplay #valorantdicas #valorantbrasil #valorantgame #valorantgames #valorantsports #valoranthighlights #valorantaula #riotgames #riotbrasil #riot @riotgames @valorantbrasil @valorantlatam @valoranttr @valorantbrasil #socute #omg #fofo\" class=\"FFVAD\" crossorigin=\"anonymous\" src=\"https://instagram.famd4-1.fna.fbcdn.net/v/t51.2885-15/274284379_676560850043454_7730052007355403232_n.webp?stp=dst-jpg_e35&amp;_nc_ht=instagram.famd4-1.fna.fbcdn.net&amp;_nc_cat=106&amp;_nc_ohc=2vKaL3PxEmYAX9ThcGg&amp;edm=APU89FABAAAA&amp;ccb=7-5&amp;oh=00_AT-6FxN4TG_kpVueiVhGJshadsRf5KFlBXe4l-99LLYrbg&amp;oe=6295BB33&amp;_nc_sid=86f79a\" style=\"visibility: hidden; object-fit: cover;\"/></div><div class=\"_9AhH0\"></div></div>, <div class=\"eLAPa\"><div class=\"KL4Bh\"><img class=\"FFVAD\" crossorigin=\"anonymous\" decoding=\"auto\" style=\"visibility: hidden; object-fit: cover;\"/></div><div class=\"_9AhH0\"></div></div>, <div class=\"eLAPa\"><div class=\"KL4Bh\"><img alt=\"Olha esses babys, mini agentes porém com grandes fofuras!!! 😊😍🥰\n",
      "\n",
      "Para mais conteúdos como esse não esqueça de nos  seguir! @gregoacademy\n",
      "Credits imagem do Twitter (Não conheço o artista) se souber pode marcar!!!!\n",
      "\n",
      "#arrastapracima #gregoacademy \n",
      "#valorantmemes #valoroso #valorant #valorantsports #valorantgameplay #valorantdicas #valorantbrasil #valorantgame #valorantgames #valorantsports #valoranthighlights #valorantaula #riotgames #riotbrasil #riot @riotgames @valorantbrasil @valorantlatam @valoranttr @valorantbrasil #socute #omg #fofo\" class=\"FFVAD\" crossorigin=\"anonymous\" src=\"https://instagram.famd4-1.fna.fbcdn.net/v/t51.2885-15/273245829_5213304582047649_4724547235430657848_n.webp?stp=dst-jpg_e35&amp;_nc_ht=instagram.famd4-1.fna.fbcdn.net&amp;_nc_cat=109&amp;_nc_ohc=RHFGk02X5r4AX_DeSlB&amp;edm=APU89FABAAAA&amp;ccb=7-5&amp;oh=00_AT8Fx45VULC3Gs4K8oTN25fojDjMscq0hA3JzXIAyotM1Q&amp;oe=62961CF6&amp;_nc_sid=86f79a\" style=\"visibility: hidden; object-fit: cover;\"/></div><div class=\"_9AhH0\"></div></div>]\n"
     ]
    }
   ],
   "source": [
    "from bs4 import BeautifulSoup\n",
    "from time import sleep\n",
    "from selenium import webdriver\n",
    "#from webdriver_manager.chrome import ChromeDriverManager\n",
    "from  random import randint\n",
    "import os\n",
    "import time\n",
    "\n",
    "driver = webdriver.Chrome('chromedriver')\n",
    "driver.get('https://www.instagram.com/')\n",
    "print (\"Opened Instagram\")\n",
    "\n",
    "sleep(randint(1,4))\n",
    "username = driver.find_element_by_name('username')\n",
    "username.send_keys('enter_your_username')# here pass your username\n",
    "password = driver.find_element_by_name('password')\n",
    "password.send_keys('enter_your_password')# here pass your password\n",
    "\n",
    "\n",
    "button_login = driver.find_element_by_css_selector('#loginForm > div > div:nth-child(3) > button')\n",
    "button_login.click()\n",
    "sleep(randint(5,10))\n",
    "driver.get('https://www.instagram.com/p/COx_vrxBeQd/')\n",
    "sleep(10)\n",
    "code=driver.page_source\n",
    "#print(code)\n",
    "soup=BeautifulSoup(code,'html.parser')\n",
    "clas=soup.find_all('div',{'class':'eLAPa'})\n",
    "print(clas)\n",
    "\n",
    "\n"
   ]
  },
  {
   "cell_type": "code",
   "execution_count": 17,
   "id": "c0d502e5",
   "metadata": {
    "ExecuteTime": {
     "end_time": "2022-05-23T13:44:11.952189Z",
     "start_time": "2022-05-23T13:44:11.907188Z"
    }
   },
   "outputs": [
    {
     "name": "stdout",
     "output_type": "stream",
     "text": [
      "https://instagram.famd4-1.fna.fbcdn.net/v/t51.2885-15/184569183_1964510163712739_3208067817262580564_n.jpg?stp=dst-jpg_e35&_nc_ht=instagram.famd4-1.fna.fbcdn.net&_nc_cat=111&_nc_ohc=FA2OfwyH93IAX8uaxN9&edm=AABBvjUBAAAA&ccb=7-5&ig_cache_key=MjU3MjExNzIxNTk0NDIzODEwOQ%3D%3D.2-ccb7-5&oh=00_AT-UU0nqHD1qR-skqCneNGNMvnolU0Xzgou85bd6Vow5zg&oe=62928218&_nc_sid=83d603\n"
     ]
    }
   ],
   "source": [
    "\n",
    "#print(code)\n",
    "soup=BeautifulSoup(code,'html.parser')\n",
    "s=str(soup).partition('eLAPa')\n",
    "e=s[1]+s[2][:6]\n",
    "clas=soup.find_all('div',{'class':e})[0].find_all('img')[0].get('src')\n",
    "print(clas)\n"
   ]
  },
  {
   "cell_type": "code",
   "execution_count": 18,
   "id": "d0d04a74",
   "metadata": {
    "ExecuteTime": {
     "end_time": "2022-05-23T13:44:17.388259Z",
     "start_time": "2022-05-23T13:44:17.381265Z"
    }
   },
   "outputs": [
    {
     "name": "stdout",
     "output_type": "stream",
     "text": [
      "['ASCII_SPACES', 'DEFAULT_BUILDER_FEATURES', 'DEFAULT_INTERESTING_STRING_TYPES', 'NO_PARSER_SPECIFIED_WARNING', 'ROOT_TAG_NAME', '__bool__', '__call__', '__class__', '__contains__', '__copy__', '__delattr__', '__delitem__', '__dict__', '__dir__', '__doc__', '__eq__', '__format__', '__ge__', '__getattr__', '__getattribute__', '__getitem__', '__getstate__', '__gt__', '__hash__', '__init__', '__init_subclass__', '__iter__', '__le__', '__len__', '__lt__', '__module__', '__ne__', '__new__', '__reduce__', '__reduce_ex__', '__repr__', '__setattr__', '__setitem__', '__sizeof__', '__str__', '__subclasshook__', '__unicode__', '__weakref__', '_all_strings', '_decode_markup', '_feed', '_find_all', '_find_one', '_is_xml', '_lastRecursiveChild', '_last_descendant', '_linkage_fixer', '_markup_is_url', '_markup_resembles_filename', '_popToTag', '_should_pretty_print', 'append', 'childGenerator', 'children', 'clear', 'decode', 'decode_contents', 'decompose', 'decomposed', 'default', 'descendants', 'encode', 'encode_contents', 'endData', 'extend', 'extract', 'fetchNextSiblings', 'fetchParents', 'fetchPrevious', 'fetchPreviousSiblings', 'find', 'findAll', 'findAllNext', 'findAllPrevious', 'findChild', 'findChildren', 'findNext', 'findNextSibling', 'findNextSiblings', 'findParent', 'findParents', 'findPrevious', 'findPreviousSibling', 'findPreviousSiblings', 'find_all', 'find_all_next', 'find_all_previous', 'find_next', 'find_next_sibling', 'find_next_siblings', 'find_parent', 'find_parents', 'find_previous', 'find_previous_sibling', 'find_previous_siblings', 'format_string', 'formatter_for_name', 'get', 'getText', 'get_attribute_list', 'get_text', 'handle_data', 'handle_endtag', 'handle_starttag', 'has_attr', 'has_key', 'index', 'insert', 'insert_after', 'insert_before', 'isSelfClosing', 'is_empty_element', 'new_string', 'new_tag', 'next', 'nextGenerator', 'nextSibling', 'nextSiblingGenerator', 'next_elements', 'next_siblings', 'object_was_parsed', 'parentGenerator', 'parents', 'parserClass', 'popTag', 'prettify', 'previous', 'previousGenerator', 'previousSibling', 'previousSiblingGenerator', 'previous_elements', 'previous_siblings', 'pushTag', 'recursiveChildGenerator', 'renderContents', 'replaceWith', 'replaceWithChildren', 'replace_with', 'replace_with_children', 'reset', 'select', 'select_one', 'setup', 'smooth', 'string', 'string_container', 'strings', 'stripped_strings', 'text', 'unwrap', 'wrap']\n"
     ]
    }
   ],
   "source": [
    "print(dir(BeautifulSoup))"
   ]
  },
  {
   "cell_type": "code",
   "execution_count": 19,
   "id": "de6978cc",
   "metadata": {
    "ExecuteTime": {
     "end_time": "2022-05-23T13:44:23.256789Z",
     "start_time": "2022-05-23T13:44:23.236790Z"
    }
   },
   "outputs": [
    {
     "data": {
      "text/plain": [
       "'https://instagram.famd4-1.fna.fbcdn.net/v/t51.2885-15/184569183_1964510163712739_3208067817262580564_n.jpg?stp=dst-jpg_e35&_nc_ht=instagram.famd4-1.fna.fbcdn.net&_nc_cat=111&_nc_ohc=FA2OfwyH93IAX8uaxN9&edm=AABBvjUBAAAA&ccb=7-5&ig_cache_key=MjU3MjExNzIxNTk0NDIzODEwOQ%3D%3D.2-ccb7-5&oh=00_AT-UU0nqHD1qR-skqCneNGNMvnolU0Xzgou85bd6Vow5zg&oe=62928218&_nc_sid=83d603'"
      ]
     },
     "execution_count": 19,
     "metadata": {},
     "output_type": "execute_result"
    }
   ],
   "source": [
    "clas"
   ]
  },
  {
   "cell_type": "code",
   "execution_count": 20,
   "id": "bd3f0ef2",
   "metadata": {
    "ExecuteTime": {
     "end_time": "2022-05-23T13:44:24.401108Z",
     "start_time": "2022-05-23T13:44:24.389108Z"
    }
   },
   "outputs": [],
   "source": [
    "def download(url,destination='E:\\SMARTY'):\n",
    "    import urllib\n",
    "    res=urllib.request.urlopen(url)\n",
    "    file=destination+'harpreet.jpg'\n",
    "    output=open(file,'wb')\n",
    "    output.write(res.read())\n",
    "    output.close()\n"
   ]
  },
  {
   "cell_type": "code",
   "execution_count": 21,
   "id": "e0746bb1",
   "metadata": {
    "ExecuteTime": {
     "end_time": "2022-05-23T13:44:26.348002Z",
     "start_time": "2022-05-23T13:44:26.220890Z"
    }
   },
   "outputs": [],
   "source": [
    "download(clas)"
   ]
  },
  {
   "cell_type": "code",
   "execution_count": null,
   "id": "93b589b8",
   "metadata": {},
   "outputs": [],
   "source": []
  }
 ],
 "metadata": {
  "kernelspec": {
   "display_name": "Python 3 (ipykernel)",
   "language": "python",
   "name": "python3"
  },
  "language_info": {
   "codemirror_mode": {
    "name": "ipython",
    "version": 3
   },
   "file_extension": ".py",
   "mimetype": "text/x-python",
   "name": "python",
   "nbconvert_exporter": "python",
   "pygments_lexer": "ipython3",
   "version": "3.9.7"
  }
 },
 "nbformat": 4,
 "nbformat_minor": 5
}
